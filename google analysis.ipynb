{
 "cells": [
  {
   "cell_type": "code",
   "execution_count": 1,
   "metadata": {
    "collapsed": true
   },
   "outputs": [],
   "source": [
    "import pyspark\n",
    "from pyspark import SparkContext\n",
    "from pyspark.sql import SparkSession\n",
    "from pyspark.sql import SQLContext\n"
   ]
  },
  {
   "cell_type": "code",
   "execution_count": 2,
   "metadata": {
    "collapsed": true
   },
   "outputs": [],
   "source": [
    "spark = SparkSession.builder.appName('ga').getOrCreate()"
   ]
  },
  {
   "cell_type": "markdown",
   "metadata": {},
   "source": [
    "### load data of selected days"
   ]
  },
  {
   "cell_type": "code",
   "execution_count": 60,
   "metadata": {},
   "outputs": [
    {
     "data": {
      "text/plain": [
       "['ga_sessions_20160802.csv',\n",
       " 'ga_sessions_20160803.csv',\n",
       " 'ga_sessions_20160801.csv']"
      ]
     },
     "execution_count": 60,
     "metadata": {},
     "output_type": "execute_result"
    }
   ],
   "source": [
    "from os import listdir\n",
    "from os.path import isfile, join\n",
    "\n",
    "directory = '/Users/ing/Documents/google analysis/data/'\n",
    "fileList = os.listdir(directory)\n",
    "fileList = [f for f in fileList if 'csv' in f]\n",
    "fileList"
   ]
  },
  {
   "cell_type": "code",
   "execution_count": 62,
   "metadata": {
    "collapsed": true
   },
   "outputs": [],
   "source": [
    "startDate = '20160801'\n",
    "stopDate = '20160803'\n",
    "\n",
    "selectedDate = [f for f in fileList if (f >= 'ga_sessions_'+startDate+'.csv' and f <= 'ga_sessions_'+stopDate+'.csv')]\n",
    "selectedDatepaths = [directory + f for f in selectedDate]\n",
    "\n",
    "# \"dir1/,dir2/,dir3/*\"\n",
    "\n",
    "df = spark.read.format('csv') \\\n",
    "  .option(\"inferSchema\", True) \\\n",
    "  .option(\"maxColumns\", \"540000\") \\\n",
    "  .option(\"header\", True) \\\n",
    "  .option(\"sep\", \"\\t\") \\\n",
    "  .load(selectedDatepaths)"
   ]
  },
  {
   "cell_type": "code",
   "execution_count": 63,
   "metadata": {},
   "outputs": [
    {
     "data": {
      "text/html": [
       "<div>\n",
       "<style scoped>\n",
       "    .dataframe tbody tr th:only-of-type {\n",
       "        vertical-align: middle;\n",
       "    }\n",
       "\n",
       "    .dataframe tbody tr th {\n",
       "        vertical-align: top;\n",
       "    }\n",
       "\n",
       "    .dataframe thead th {\n",
       "        text-align: right;\n",
       "    }\n",
       "</style>\n",
       "<table border=\"1\" class=\"dataframe\">\n",
       "  <thead>\n",
       "    <tr style=\"text-align: right;\">\n",
       "      <th></th>\n",
       "      <th>visitorId</th>\n",
       "      <th>visitNumber</th>\n",
       "      <th>visitId</th>\n",
       "      <th>visitStartTime</th>\n",
       "      <th>date</th>\n",
       "      <th>totals</th>\n",
       "      <th>trafficSource</th>\n",
       "      <th>device</th>\n",
       "      <th>geoNetwork</th>\n",
       "      <th>customDimensions</th>\n",
       "      <th>hits</th>\n",
       "      <th>fullVisitorId</th>\n",
       "      <th>userId</th>\n",
       "      <th>channelGrouping</th>\n",
       "      <th>socialEngagementType</th>\n",
       "    </tr>\n",
       "  </thead>\n",
       "  <tbody>\n",
       "    <tr>\n",
       "      <th>0</th>\n",
       "      <td>None</td>\n",
       "      <td>5</td>\n",
       "      <td>1470191844</td>\n",
       "      <td>1470191844</td>\n",
       "      <td>20160802</td>\n",
       "      <td>{'visits': 1, 'hits': 1, 'pageviews': 1, 'time...</td>\n",
       "      <td>{'referralPath': None, 'campaign': '(not set)'...</td>\n",
       "      <td>{'browser': 'Safari', 'browserVersion': 'not a...</td>\n",
       "      <td>{'continent': 'Oceania', 'subContinent': 'Aust...</td>\n",
       "      <td>[{'index': 4, 'value': 'APAC'}]</td>\n",
       "      <td>[{'hitNumber': 1, 'time': 0, 'hour': 19, 'minu...</td>\n",
       "      <td>9932908116119920975</td>\n",
       "      <td>None</td>\n",
       "      <td>Organic Search</td>\n",
       "      <td>Not Socially Engaged</td>\n",
       "    </tr>\n",
       "    <tr>\n",
       "      <th>1</th>\n",
       "      <td>None</td>\n",
       "      <td>2</td>\n",
       "      <td>1470127145</td>\n",
       "      <td>1470127145</td>\n",
       "      <td>20160802</td>\n",
       "      <td>{'visits': 1, 'hits': 1, 'pageviews': 1, 'time...</td>\n",
       "      <td>{'referralPath': None, 'campaign': '(not set)'...</td>\n",
       "      <td>{'browser': 'Chrome', 'browserVersion': 'not a...</td>\n",
       "      <td>{'continent': 'Europe', 'subContinent': 'North...</td>\n",
       "      <td>[]</td>\n",
       "      <td>\"[{'hitNumber': 1, 'time': 0, 'hour': 1, 'minu...</td>\n",
       "      <td>5320937337095104430</td>\n",
       "      <td>None</td>\n",
       "      <td>Direct</td>\n",
       "      <td>Not Socially Engaged</td>\n",
       "    </tr>\n",
       "    <tr>\n",
       "      <th>2</th>\n",
       "      <td>None</td>\n",
       "      <td>1</td>\n",
       "      <td>1470176183</td>\n",
       "      <td>1470176183</td>\n",
       "      <td>20160802</td>\n",
       "      <td>{'visits': 1, 'hits': 1, 'pageviews': 1, 'time...</td>\n",
       "      <td>{'referralPath': None, 'campaign': '(not set)'...</td>\n",
       "      <td>{'browser': 'Chrome', 'browserVersion': 'not a...</td>\n",
       "      <td>{'continent': 'Europe', 'subContinent': 'North...</td>\n",
       "      <td>[{'index': 4, 'value': 'EMEA'}]</td>\n",
       "      <td>\"[{'hitNumber': 1, 'time': 0, 'hour': 15, 'min...</td>\n",
       "      <td>2314762785260651364</td>\n",
       "      <td>None</td>\n",
       "      <td>Organic Search</td>\n",
       "      <td>Not Socially Engaged</td>\n",
       "    </tr>\n",
       "    <tr>\n",
       "      <th>3</th>\n",
       "      <td>None</td>\n",
       "      <td>1</td>\n",
       "      <td>1470169596</td>\n",
       "      <td>1470169596</td>\n",
       "      <td>20160802</td>\n",
       "      <td>{'visits': 1, 'hits': 1, 'pageviews': 1, 'time...</td>\n",
       "      <td>{'referralPath': None, 'campaign': '(not set)'...</td>\n",
       "      <td>{'browser': 'Chrome', 'browserVersion': 'not a...</td>\n",
       "      <td>{'continent': 'Americas', 'subContinent': 'Nor...</td>\n",
       "      <td>[{'index': 4, 'value': 'North America'}]</td>\n",
       "      <td>[{'hitNumber': 1, 'time': 0, 'hour': 13, 'minu...</td>\n",
       "      <td>1144912080450618887</td>\n",
       "      <td>None</td>\n",
       "      <td>Direct</td>\n",
       "      <td>Not Socially Engaged</td>\n",
       "    </tr>\n",
       "    <tr>\n",
       "      <th>4</th>\n",
       "      <td>None</td>\n",
       "      <td>1</td>\n",
       "      <td>1470180889</td>\n",
       "      <td>1470180889</td>\n",
       "      <td>20160802</td>\n",
       "      <td>{'visits': 1, 'hits': 1, 'pageviews': 1, 'time...</td>\n",
       "      <td>{'referralPath': None, 'campaign': '(not set)'...</td>\n",
       "      <td>{'browser': 'Chrome', 'browserVersion': 'not a...</td>\n",
       "      <td>{'continent': 'Americas', 'subContinent': 'Nor...</td>\n",
       "      <td>[{'index': 4, 'value': 'North America'}]</td>\n",
       "      <td>[{'hitNumber': 1, 'time': 0, 'hour': 16, 'minu...</td>\n",
       "      <td>1408951569184570430</td>\n",
       "      <td>None</td>\n",
       "      <td>Direct</td>\n",
       "      <td>Not Socially Engaged</td>\n",
       "    </tr>\n",
       "  </tbody>\n",
       "</table>\n",
       "</div>"
      ],
      "text/plain": [
       "  visitorId  visitNumber     visitId  visitStartTime      date  \\\n",
       "0      None            5  1470191844      1470191844  20160802   \n",
       "1      None            2  1470127145      1470127145  20160802   \n",
       "2      None            1  1470176183      1470176183  20160802   \n",
       "3      None            1  1470169596      1470169596  20160802   \n",
       "4      None            1  1470180889      1470180889  20160802   \n",
       "\n",
       "                                              totals  \\\n",
       "0  {'visits': 1, 'hits': 1, 'pageviews': 1, 'time...   \n",
       "1  {'visits': 1, 'hits': 1, 'pageviews': 1, 'time...   \n",
       "2  {'visits': 1, 'hits': 1, 'pageviews': 1, 'time...   \n",
       "3  {'visits': 1, 'hits': 1, 'pageviews': 1, 'time...   \n",
       "4  {'visits': 1, 'hits': 1, 'pageviews': 1, 'time...   \n",
       "\n",
       "                                       trafficSource  \\\n",
       "0  {'referralPath': None, 'campaign': '(not set)'...   \n",
       "1  {'referralPath': None, 'campaign': '(not set)'...   \n",
       "2  {'referralPath': None, 'campaign': '(not set)'...   \n",
       "3  {'referralPath': None, 'campaign': '(not set)'...   \n",
       "4  {'referralPath': None, 'campaign': '(not set)'...   \n",
       "\n",
       "                                              device  \\\n",
       "0  {'browser': 'Safari', 'browserVersion': 'not a...   \n",
       "1  {'browser': 'Chrome', 'browserVersion': 'not a...   \n",
       "2  {'browser': 'Chrome', 'browserVersion': 'not a...   \n",
       "3  {'browser': 'Chrome', 'browserVersion': 'not a...   \n",
       "4  {'browser': 'Chrome', 'browserVersion': 'not a...   \n",
       "\n",
       "                                          geoNetwork  \\\n",
       "0  {'continent': 'Oceania', 'subContinent': 'Aust...   \n",
       "1  {'continent': 'Europe', 'subContinent': 'North...   \n",
       "2  {'continent': 'Europe', 'subContinent': 'North...   \n",
       "3  {'continent': 'Americas', 'subContinent': 'Nor...   \n",
       "4  {'continent': 'Americas', 'subContinent': 'Nor...   \n",
       "\n",
       "                           customDimensions  \\\n",
       "0           [{'index': 4, 'value': 'APAC'}]   \n",
       "1                                        []   \n",
       "2           [{'index': 4, 'value': 'EMEA'}]   \n",
       "3  [{'index': 4, 'value': 'North America'}]   \n",
       "4  [{'index': 4, 'value': 'North America'}]   \n",
       "\n",
       "                                                hits        fullVisitorId  \\\n",
       "0  [{'hitNumber': 1, 'time': 0, 'hour': 19, 'minu...  9932908116119920975   \n",
       "1  \"[{'hitNumber': 1, 'time': 0, 'hour': 1, 'minu...  5320937337095104430   \n",
       "2  \"[{'hitNumber': 1, 'time': 0, 'hour': 15, 'min...  2314762785260651364   \n",
       "3  [{'hitNumber': 1, 'time': 0, 'hour': 13, 'minu...  1144912080450618887   \n",
       "4  [{'hitNumber': 1, 'time': 0, 'hour': 16, 'minu...  1408951569184570430   \n",
       "\n",
       "  userId channelGrouping  socialEngagementType  \n",
       "0   None  Organic Search  Not Socially Engaged  \n",
       "1   None          Direct  Not Socially Engaged  \n",
       "2   None  Organic Search  Not Socially Engaged  \n",
       "3   None          Direct  Not Socially Engaged  \n",
       "4   None          Direct  Not Socially Engaged  "
      ]
     },
     "execution_count": 63,
     "metadata": {},
     "output_type": "execute_result"
    }
   ],
   "source": [
    "df.toPandas().head()"
   ]
  },
  {
   "cell_type": "code",
   "execution_count": 64,
   "metadata": {},
   "outputs": [
    {
     "data": {
      "text/plain": [
       "6741"
      ]
     },
     "execution_count": 64,
     "metadata": {},
     "output_type": "execute_result"
    }
   ],
   "source": [
    "df.count()"
   ]
  },
  {
   "cell_type": "markdown",
   "metadata": {},
   "source": [
    "## count visitor number"
   ]
  },
  {
   "cell_type": "markdown",
   "metadata": {},
   "source": [
    "### timestamp converting"
   ]
  },
  {
   "cell_type": "code",
   "execution_count": 144,
   "metadata": {},
   "outputs": [
    {
     "data": {
      "text/plain": [
       "[(Decimal('9932908116119920975'), '20160803103724'),\n",
       " (Decimal('5320937337095104430'), '20160802163905'),\n",
       " (Decimal('2314762785260651364'), '20160803061623'),\n",
       " (Decimal('1144912080450618887'), '20160803042636'),\n",
       " (Decimal('1408951569184570430'), '20160803073449')]"
      ]
     },
     "execution_count": 144,
     "metadata": {},
     "output_type": "execute_result"
    }
   ],
   "source": [
    "# #转换成localtime\n",
    "# time_local = time.localtime(timestamp)\n",
    "# #转换成新的时间格式(2016-05-05 20:28:54)\n",
    "# dt = time.strftime(\"%Y-%m-%d %H:%M:%S\",time_local)\n",
    "import time\n",
    "\n",
    "def visitStartTimeConvert(x):\n",
    "    t = time.localtime(x[\"visitStartTime\"])\n",
    "    \n",
    "    return (x['fullVisitorId'], time.strftime('%Y%m%d%H%M%S',t))\n",
    "\n",
    "visitStartTimeConverted = df.rdd.map(visitStartTimeConvert)\n",
    "visitStartTimeConverted.take(5)"
   ]
  },
  {
   "cell_type": "markdown",
   "metadata": {},
   "source": [
    "### visitors per hour"
   ]
  },
  {
   "cell_type": "code",
   "execution_count": 168,
   "metadata": {},
   "outputs": [
    {
     "data": {
      "text/plain": [
       "[('2016080115', 38),\n",
       " ('2016080116', 41),\n",
       " ('2016080117', 51),\n",
       " ('2016080118', 43),\n",
       " ('2016080119', 40)]"
      ]
     },
     "execution_count": 168,
     "metadata": {},
     "output_type": "execute_result"
    }
   ],
   "source": [
    "def groupByHour(x):\n",
    "    return (x[0], x[1][:10])\n",
    "\n",
    "visitHour = visitStartTimeConverted.map(groupByHour).distinct()\n",
    "visitHour = visitHour.map(lambda x: (x[1], 1))\n",
    "\n",
    "visitHour = visitHour.reduceByKey(lambda x, y: x + y)\n",
    "visitHour = visitHour.sortByKey(ascending=True)\n",
    "visitHour.take(5)"
   ]
  },
  {
   "cell_type": "code",
   "execution_count": 174,
   "metadata": {},
   "outputs": [
    {
     "data": {
      "image/png": "[encoded data removed]",
      "text/plain": [
       "<Figure size 432x288 with 1 Axes>"
      ]
     },
     "metadata": {},
     "output_type": "display_data"
    }
   ],
   "source": [
    "visitsPerHour = visitHour.toDF().toPandas()\n",
    "visitsPerHour.columns = ['Time','VisitorsPerHour']\n",
    "visitsPerHour.plot(x ='Time', y='VisitorsPerHour', kind = 'line')\n",
    "plt.show()"
   ]
  },
  {
   "cell_type": "code",
   "execution_count": 176,
   "metadata": {
    "collapsed": true
   },
   "outputs": [],
   "source": [
    "csv_name_h = 'visitsPerHour' + startDate + 'to' + stopDate + '.csv'\n",
    "visitsPerHour.to_csv(csv_name_h)"
   ]
  },
  {
   "cell_type": "markdown",
   "metadata": {},
   "source": [
    "### visitors per minute"
   ]
  },
  {
   "cell_type": "code",
   "execution_count": 171,
   "metadata": {},
   "outputs": [
    {
     "data": {
      "text/plain": [
       "[('201608011500', 1),\n",
       " ('201608011504', 2),\n",
       " ('201608011506', 2),\n",
       " ('201608011508', 1),\n",
       " ('201608011510', 2)]"
      ]
     },
     "execution_count": 171,
     "metadata": {},
     "output_type": "execute_result"
    }
   ],
   "source": [
    "def groupByMin(x):\n",
    "    return (x[0], x[1][:12])\n",
    "\n",
    "visitMin = visitStartTimeConverted.map(groupByMin).distinct()\n",
    "visitMin = visitMin.map(lambda x: (x[1], 1))\n",
    "\n",
    "visitMin = visitMin.reduceByKey(lambda x, y: x + y)\n",
    "visitMin = visitMin.sortByKey(ascending=True)\n",
    "visitMin.take(5)"
   ]
  },
  {
   "cell_type": "code",
   "execution_count": 178,
   "metadata": {},
   "outputs": [
    {
     "data": {
      "image/png": "[encoded data removed]",
      "text/plain": [
       "<Figure size 432x288 with 1 Axes>"
      ]
     },
     "metadata": {},
     "output_type": "display_data"
    }
   ],
   "source": [
    "visitsPerMin = visitMin.toDF().toPandas()\n",
    "visitsPerMin.columns = ['Time','VisitorsPerMin']\n",
    "visitsPerMin.plot(x ='Time', y='VisitorsPerMin', kind = 'line')\n",
    "plt.show()"
   ]
  },
  {
   "cell_type": "code",
   "execution_count": 179,
   "metadata": {
    "collapsed": true
   },
   "outputs": [],
   "source": [
    "csv_name_m = 'visitsPerMin' + startDate + 'to' + stopDate + '.csv'\n",
    "visitsPerMin.to_csv(csv_name_m)"
   ]
  }
 ],
 "metadata": {
  "kernelspec": {
   "display_name": "Python 3",
   "language": "python",
   "name": "python3"
  },
  "language_info": {
   "codemirror_mode": {
    "name": "ipython",
    "version": 3
   },
   "file_extension": ".py",
   "mimetype": "text/x-python",
   "name": "python",
   "nbconvert_exporter": "python",
   "pygments_lexer": "ipython3",
   "version": "3.6.5"
  }
 },
 "nbformat": 4,
 "nbformat_minor": 2
}
